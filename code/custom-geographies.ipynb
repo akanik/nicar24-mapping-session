{
 "cells": [
  {
   "cell_type": "code",
   "execution_count": null,
   "id": "57778094-c74f-4ad3-aabd-c72835860717",
   "metadata": {},
   "outputs": [],
   "source": [
    "import os\n",
    "import pandas as pd\n",
    "import geopandas as gpd\n",
    "import plotly.express as px\n",
    "\n",
    "pd.set_option('display.max_columns', None)\n",
    "pd.set_option('display.max_rows', None)"
   ]
  },
  {
   "cell_type": "markdown",
   "id": "ccacdcb5-03de-4c95-8c84-8b1b17d83ed5",
   "metadata": {},
   "source": [
    "## See how geographies change over time\n",
    "Many geographies change over time. For example, every 10 years, congressional district change during a process called redistricting. Understanding how these geographies are changing can help inform stories. \n",
    "\n",
    "Let's take a look at those congressional districts for Maryland. \n",
    "\n",
    "*NOTE: You may be asking yourself why I'm pulling data from 2022 and 2019 but calling it `md_cd_2020` and `md_cd_2010`, respectively. While these shapes are redraw every 10 years, they are also improved for geographic accuracy by the Census Bureau every few years. They boundaries from the 2010 file and the 2019 file will be the same boundaries, but the 2019 files will be more geographically precise.*"
   ]
  },
  {
   "cell_type": "code",
   "execution_count": null,
   "id": "2ecc828a-3a3f-4a56-8b48-4e4806c0240c",
   "metadata": {},
   "outputs": [],
   "source": [
    "md_cd_2020 = gpd.read_file('https://www2.census.gov/geo/tiger/TIGER2022/CD/tl_2022_24_cd118.zip')\n",
    "\n",
    "#these older files only come on the us level so we'll need to filter once we download\n",
    "us_cd_2010 = gpd.read_file('https://www2.census.gov/geo/tiger/TIGER2019/CD/tl_2019_us_cd116.zip')\n",
    "md_cd_2010 = us_cd_2010.loc[us_cd_2010['STATEFP'] == '24']"
   ]
  },
  {
   "cell_type": "code",
   "execution_count": null,
   "id": "9415aa5e-ee78-4be9-b820-bf24d8578e4c",
   "metadata": {},
   "outputs": [],
   "source": [
    "md_cd_2020.plot()"
   ]
  },
  {
   "cell_type": "code",
   "execution_count": null,
   "id": "f97ac0bc-f87b-47d0-849c-cc5c2567841d",
   "metadata": {},
   "outputs": [],
   "source": [
    "md_cd_2010.plot()"
   ]
  },
  {
   "cell_type": "markdown",
   "id": "359da10e-e7d3-4cf6-83ae-49fe1e56d878",
   "metadata": {},
   "source": [
    "I can SEE that they are different, but maybe I want to target the areas that have changed so i can see where they are exactly. Maybe I can even attach some data to these shapes and see who is being affected by the changes?"
   ]
  },
  {
   "cell_type": "code",
   "execution_count": null,
   "id": "2650a74c-7d34-476c-97e6-a292bd20f087",
   "metadata": {},
   "outputs": [],
   "source": [
    "#do the intersection\n",
    "overlay = gpd.overlay(md_cd_2010, md_cd_2020, how='intersection')\n",
    "overlay['changed'] = overlay.apply(lambda x: 'yes' if x['NAMELSAD'] != x['NAMELSAD20'] else 'no', axis=1)\n",
    "overlay['id'] = overlay['NAMELSAD'] + ' - ' + overlay['NAMELSAD20']\n",
    "\n",
    "#create a df that's just the data\n",
    "overlay_df = overlay[['id','NAMELSAD','NAMELSAD20','changed']]\n",
    "\n",
    "#Changing the projection so it works nicely with plotly\n",
    "overlay = overlay.to_crs('EPSG:4326')\n",
    "\n",
    "#Setting the index because plotly needs this\n",
    "overlay.set_index('id',inplace=True)\n",
    "\n",
    "#viz it\n",
    "fig = px.choropleth_mapbox(overlay_df, geojson=overlay, \n",
    "                           locations='id',\n",
    "                           color='changed',\n",
    "                           color_discrete_map={'no':'#189196','yes':'#D1365E'},\n",
    "                           hover_data=['NAMELSAD','NAMELSAD20'],\n",
    "                           mapbox_style=\"carto-positron\",\n",
    "                           zoom=6, center = {\"lat\": 39.23274, \"lon\": -77.03450},\n",
    "                           opacity=0.5,\n",
    "                          )\n",
    "fig.update_layout(margin={\"r\":0,\"t\":0,\"l\":0,\"b\":0})\n",
    "fig.show()"
   ]
  },
  {
   "cell_type": "markdown",
   "id": "973f2279-5296-4bb6-a28d-8ae97908bc55",
   "metadata": {},
   "source": [
    "## Getting data into custom shapes\n",
    "We saw earlier that our Baltimore neighborhoods shapefile (provided by the city) already has some helpful data attached, but what if we want to add more data? Or maybe we want to add the same data but from sources we can verify the dates and quality of?\n",
    "\n",
    "We can do this pretty easily with code! "
   ]
  },
  {
   "cell_type": "code",
   "execution_count": null,
   "id": "c3bc5542-fd94-4aad-a6c4-2aae21d3a3e8",
   "metadata": {},
   "outputs": [],
   "source": [
    "#first we import the data. They dtype thing is just to make sure our join column is of the right type\n",
    "tracts_shp = gpd.read_file('../GIS/tl_2022_47_tract.zip', dtype={'TRACTCE':str})\n",
    "nash_redline = gpd.read_file('../GIS/redlining/TNNashville19XX.zip')\n",
    "\n",
    "\n",
    "#our shapes need to be in the same projection for this\n",
    "tracts_shp.to_crs('EPSG:2274',inplace=True)\n",
    "nash_redline.to_crs('EPSG:2274',inplace=True)\n",
    "\n",
    "\n",
    "#we'll want to join demographic data to our tracts shape now\n",
    "demo_tract_df = pd.read_csv('../data/acs5-2021-demo-47-tracts.csv', dtype={'tract':str})\n",
    "demo_tract_shp_df = tracts_shp.merge(demo_tract_df,left_on='TRACTCE',right_on='tract',how='left')\n",
    "\n",
    "\n",
    "#and we'll need to calculate the area of the tracts before and after we do the intersection so we can\n",
    "#calculate the actual estimated count of people of different races in each tract segmemt.\n",
    "#we're multiplying by 3.587E-8 to turn unmanagably large feet into manageable miles!\n",
    "demo_tract_shp_df['pre_area'] = demo_tract_shp_df['geometry'].area * 3.587E-8\n",
    "\n",
    "\n",
    "#now let's do that intersection!\n",
    "tracts_redlining = gpd.overlay(demo_tract_shp_df, nash_redline, how='intersection')\n",
    "\n",
    "\n",
    "#and calculate the area post intersection.  \n",
    "tracts_redlining['post_area'] = tracts_redlining['geometry'].area * 3.587E-8\n",
    "\n",
    "\n",
    "#from the pre and post area calculations we create a percentage\n",
    "tracts_redlining['pct_area'] = tracts_redlining['post_area']/demo_tract_shp_df['pre_area']\n",
    "\n",
    "#and then we multiply our tract population counts by that percentage\n",
    "#to get an estimated count of people who live in the segments of the tract\n",
    "#that fall within each redlining district\n",
    "tracts_redlining['post_pop'] = tracts_redlining['pop'] * tracts_redlining['pct_area']\n",
    "tracts_redlining['post_pop1r'] = tracts_redlining['pop_1r'] * tracts_redlining['pct_area']\n",
    "tracts_redlining['post_white'] = tracts_redlining['pop_1r_white'] * tracts_redlining['pct_area']\n",
    "tracts_redlining['post_black'] = tracts_redlining['pop_1r_black'] * tracts_redlining['pct_area']\n",
    "tracts_redlining['post_aian'] = tracts_redlining['pop_1r_aian'] * tracts_redlining['pct_area']\n",
    "tracts_redlining['post_asian'] = tracts_redlining['pop_1r_asian'] * tracts_redlining['pct_area']\n",
    "tracts_redlining['post_nhpi'] = tracts_redlining['pop_1r_nhpi'] * tracts_redlining['pct_area']\n",
    "\n",
    "#and for display purposes, let's calculate one more value... post_pct_poc\n",
    "tracts_redlining['post_pct_poc'] = (tracts_redlining['post_pop1r'] - tracts_redlining['post_white'])/tracts_redlining['post_pop1r']\n",
    "\n",
    "\n",
    "#and output as a file so we can checkout in QGIS!\n",
    "tracts_redlining.to_file('../GIS/analyzed/nashville-redlining-tracts-int.shp')\n",
    "\n",
    "tracts_redlining.head()"
   ]
  }
 ],
 "metadata": {
  "kernelspec": {
   "display_name": "Python 3 (ipykernel)",
   "language": "python",
   "name": "python3"
  },
  "language_info": {
   "codemirror_mode": {
    "name": "ipython",
    "version": 3
   },
   "file_extension": ".py",
   "mimetype": "text/x-python",
   "name": "python",
   "nbconvert_exporter": "python",
   "pygments_lexer": "ipython3",
   "version": "3.9.6"
  }
 },
 "nbformat": 4,
 "nbformat_minor": 5
}
