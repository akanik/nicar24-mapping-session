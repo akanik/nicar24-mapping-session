{
 "cells": [
  {
   "cell_type": "code",
   "execution_count": null,
   "id": "93fb1faa-ab73-4d0f-92fc-c456a6b26ea1",
   "metadata": {},
   "outputs": [],
   "source": [
    "import pandas as pd\n",
    "import geopandas as gpd\n",
    "import os"
   ]
  },
  {
   "cell_type": "markdown",
   "id": "cb345360-4d9d-4ca1-879a-af7ebcdb923c",
   "metadata": {},
   "source": [
    "## Download the Census data"
   ]
  },
  {
   "cell_type": "code",
   "execution_count": null,
   "id": "f5e0bfa1-286b-4518-bcc1-d31ec1ed085f",
   "metadata": {},
   "outputs": [],
   "source": [
    "MYKEY = '5f5e920f59df757178d859ae70a4cb8297cb739c'\n",
    "\n",
    "#I like to rename my data columns cause I'll get lost otherwise!\n",
    "rename_cols = {\n",
    "    'S1701_C01_001E':'pop_tract',\n",
    "    'S1701_C02_001E':'poverty_tract',\n",
    "    'S1701_C02_002E':'pov18_tract',\n",
    "    'S1701_C03_001E':'share_pop_poverty_tract',\n",
    "    'S1701_C03_002E':'share_pov18_tract',\n",
    "    'S1903_C03_001E':'med_income_tract',\n",
    "              }\n",
    "\n",
    "var_list = ['GEO_ID','NAME']+list(rename_cols.keys())\n",
    "var_str = ','.join(var_list)\n",
    "\n",
    "year = 2022\n",
    "\n",
    "data_url = 'https://api.census.gov/data/'+str(year)+'/acs/acs5/subject?get='+var_str+'&for=tract:*&in=state:24&key='+MYKEY\n",
    "demo_tract_df = pd.read_json(data_url)\n",
    "new_header = demo_tract_df.iloc[0] #grab the first row for the header\n",
    "demo_tract_df = demo_tract_df[1:] #take the data less the header row\n",
    "demo_tract_df.columns = new_header #set the header row as the df header\n",
    "demo_tract_df.rename(columns=rename_cols, inplace=True) #heres where we actually rename\n",
    "\n",
    "demo_tract_df.to_csv('../data/md-census-tracts/2022ACS5yr-census-md-tract-data.csv',index=False)"
   ]
  },
  {
   "cell_type": "code",
   "execution_count": null,
   "id": "581f0f25-b5e7-4c79-a10c-94f5510e1328",
   "metadata": {},
   "outputs": [],
   "source": [
    "demo_tract_df.head()"
   ]
  },
  {
   "cell_type": "markdown",
   "id": "048bdc7e-285b-41a6-87a7-7be7b78f84ed",
   "metadata": {},
   "source": [
    "## Download Census geographies"
   ]
  },
  {
   "cell_type": "code",
   "execution_count": null,
   "id": "9d6b0b0c-7f57-46da-baaa-6ff6de7e96f3",
   "metadata": {},
   "outputs": [],
   "source": [
    "md_cd_2020 = gpd.read_file('https://www2.census.gov/geo/tiger/TIGER2022/CD/tl_2022_24_cd118.zip')\n",
    "\n",
    "#these older files only come on the us level so we'll need to filter once we download\n",
    "us_cd_2010 = gpd.read_file('https://www2.census.gov/geo/tiger/TIGER2019/CD/tl_2019_us_cd116.zip')\n",
    "md_cd_2010 = us_cd_2010.loc[us_cd_2010['STATEFP'] == '24']\n",
    "\n",
    "path = '../data/congressional-districts'\n",
    "isExist = os.path.exists(path)\n",
    "if not isExist:\n",
    "   os.makedirs(path)\n",
    "   print('The new directory is created!')\n",
    "\n",
    "md_cd_2020.to_file(path+'/tl_2022_24_cd118.shp')\n",
    "md_cd_2010.to_file(path+'/tl_2019_us_cd116.shp')"
   ]
  },
  {
   "cell_type": "code",
   "execution_count": null,
   "id": "9ee1c6a0-95b7-4ead-815c-c84a9b35e76a",
   "metadata": {},
   "outputs": [],
   "source": []
  }
 ],
 "metadata": {
  "kernelspec": {
   "display_name": "Python 3 (ipykernel)",
   "language": "python",
   "name": "python3"
  },
  "language_info": {
   "codemirror_mode": {
    "name": "ipython",
    "version": 3
   },
   "file_extension": ".py",
   "mimetype": "text/x-python",
   "name": "python",
   "nbconvert_exporter": "python",
   "pygments_lexer": "ipython3",
   "version": "3.9.6"
  }
 },
 "nbformat": 4,
 "nbformat_minor": 5
}
