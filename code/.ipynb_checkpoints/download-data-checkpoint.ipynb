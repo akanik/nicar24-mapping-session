{
 "cells": [
  {
   "cell_type": "code",
   "execution_count": null,
   "id": "93fb1faa-ab73-4d0f-92fc-c456a6b26ea1",
   "metadata": {},
   "outputs": [],
   "source": [
    "import pandas as pd\n",
    "import geopandas as gpd\n",
    "import os\n",
    "\n",
    "## Download the Census data\n",
    "MYKEY = '5f5e920f59df757178d859ae70a4cb8297cb739c'\n",
    "\n",
    "#I like to rename my data columns cause I'll get lost otherwise!\n",
    "rename_cols = {\n",
    "    'S1701_C01_001E':'pop_tract',\n",
    "    'S1701_C02_001E':'poverty_tract',\n",
    "    'S1701_C02_002E':'pov18_tract',\n",
    "    'S1701_C03_001E':'share_pop_poverty_tract',\n",
    "    'S1701_C03_002E':'share_pov18_tract',\n",
    "    'S1903_C03_001E':'med_income_tract',\n",
    "              }\n",
    "\n",
    "var_list = ['GEO_ID','NAME']+list(rename_cols.keys())\n",
    "var_str = ','.join(var_list)\n",
    "\n",
    "year = 2022\n",
    "\n",
    "data_url = 'https://api.census.gov/data/'+str(year)+'/acs/acs5/subject?get='+var_str+'&for=tract:*&in=state:24&key='+MYKEY\n",
    "demo_tract_df = pd.read_json(data_url)\n",
    "new_header = demo_tract_df.iloc[0] #grab the first row for the header\n",
    "demo_tract_df = demo_tract_df[1:] #take the data less the header row\n",
    "demo_tract_df.columns = new_header #set the header row as the df header\n",
    "demo_tract_df.rename(columns=rename_cols, inplace=True) #heres where we actually rename\n",
    "\n",
    "demo_tract_df.to_csv('../data/md-census-tracts/2022ACS5yr-census-md-tract-data.csv',index=False)\n",
    "\n",
    "## Download Census geographies\n",
    "md_cd_2020 = gpd.read_file('https://www2.census.gov/geo/tiger/TIGER2022/CD/tl_2022_24_cd118.zip')\n",
    "\n",
    "#these older files only come on the us level so we'll need to filter once we download\n",
    "us_cd_2010 = gpd.read_file('https://www2.census.gov/geo/tiger/TIGER2019/CD/tl_2019_us_cd116.zip')\n",
    "md_cd_2010 = us_cd_2010.loc[us_cd_2010['STATEFP'] == '24']\n",
    "\n",
    "path = '../data/congressional-districts'\n",
    "isExist = os.path.exists(path)\n",
    "if not isExist:\n",
    "   os.makedirs(path)\n",
    "   print('The new directory is created!')\n",
    "\n",
    "md_cd_2020.to_file(path+'/tl_2022_24_cd118.shp')\n",
    "md_cd_2010.to_file(path+'/tl_2019_us_cd116.shp')"
   ]
  }
 ],
 "metadata": {
  "kernelspec": {
   "display_name": "Python 3 (ipykernel)",
   "language": "python",
   "name": "python3"
  },
  "language_info": {
   "codemirror_mode": {
    "name": "ipython",
    "version": 3
   },
   "file_extension": ".py",
   "mimetype": "text/x-python",
   "name": "python",
   "nbconvert_exporter": "python",
   "pygments_lexer": "ipython3",
   "version": "3.9.6"
  }
 },
 "nbformat": 4,
 "nbformat_minor": 5
}
