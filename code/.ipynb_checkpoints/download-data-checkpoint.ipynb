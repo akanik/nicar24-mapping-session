{
 "cells": [
  {
   "cell_type": "code",
   "execution_count": 6,
   "id": "93fb1faa-ab73-4d0f-92fc-c456a6b26ea1",
   "metadata": {},
   "outputs": [],
   "source": [
    "import pandas as pd\n",
    "import geopandas as gpd\n",
    "import os"
   ]
  },
  {
   "cell_type": "markdown",
   "id": "cb345360-4d9d-4ca1-879a-af7ebcdb923c",
   "metadata": {},
   "source": [
    "## Download the Census data"
   ]
  },
  {
   "cell_type": "code",
   "execution_count": 9,
   "id": "f5e0bfa1-286b-4518-bcc1-d31ec1ed085f",
   "metadata": {},
   "outputs": [],
   "source": [
    "MYKEY = '5f5e920f59df757178d859ae70a4cb8297cb739c'\n",
    "\n",
    "#I like to rename my data columns cause I'll get lost otherwise!\n",
    "rename_cols = {\n",
    "    'S1701_C01_001E':'pop_tract',\n",
    "    'S1701_C02_001E':'poverty_tract',\n",
    "    'S1701_C02_002E':'pov18_tract',\n",
    "    'S1701_C03_001E':'share_pop_poverty_tract',\n",
    "    'S1701_C03_002E':'share_pov18_tract',\n",
    "    'S1903_C03_001E':'med_income_tract',\n",
    "              }\n",
    "\n",
    "var_list = ['GEO_ID','NAME']+list(rename_cols.keys())\n",
    "var_str = ','.join(var_list)\n",
    "\n",
    "year = 2022\n",
    "\n",
    "data_url = 'https://api.census.gov/data/'+str(year)+'/acs/acs5/subject?get='+var_str+'&for=tract:*&in=state:24&key='+MYKEY\n",
    "demo_tract_df = pd.read_json(data_url)\n",
    "new_header = demo_tract_df.iloc[0] #grab the first row for the header\n",
    "demo_tract_df = demo_tract_df[1:] #take the data less the header row\n",
    "demo_tract_df.columns = new_header #set the header row as the df header\n",
    "demo_tract_df.rename(columns=rename_cols, inplace=True) #heres where we actually rename\n",
    "\n",
    "demo_tract_df.to_csv('../data/md-census-tracts/2022ACS5yr-census-md-tract-data.csv',index=False)"
   ]
  },
  {
   "cell_type": "code",
   "execution_count": 8,
   "id": "581f0f25-b5e7-4c79-a10c-94f5510e1328",
   "metadata": {},
   "outputs": [
    {
     "data": {
      "text/html": [
       "<div>\n",
       "<style scoped>\n",
       "    .dataframe tbody tr th:only-of-type {\n",
       "        vertical-align: middle;\n",
       "    }\n",
       "\n",
       "    .dataframe tbody tr th {\n",
       "        vertical-align: top;\n",
       "    }\n",
       "\n",
       "    .dataframe thead th {\n",
       "        text-align: right;\n",
       "    }\n",
       "</style>\n",
       "<table border=\"1\" class=\"dataframe\">\n",
       "  <thead>\n",
       "    <tr style=\"text-align: right;\">\n",
       "      <th></th>\n",
       "      <th>GEO_ID</th>\n",
       "      <th>NAME</th>\n",
       "      <th>med_income_tract</th>\n",
       "      <th>share_pop_poverty_tract</th>\n",
       "      <th>share_under18_poverty_tract</th>\n",
       "      <th>state</th>\n",
       "      <th>county</th>\n",
       "      <th>tract</th>\n",
       "    </tr>\n",
       "  </thead>\n",
       "  <tbody>\n",
       "    <tr>\n",
       "      <th>1</th>\n",
       "      <td>1400000US24001000100</td>\n",
       "      <td>Census Tract 1; Allegany County; Maryland</td>\n",
       "      <td>56232</td>\n",
       "      <td>11.6</td>\n",
       "      <td>17.7</td>\n",
       "      <td>24</td>\n",
       "      <td>001</td>\n",
       "      <td>000100</td>\n",
       "    </tr>\n",
       "    <tr>\n",
       "      <th>2</th>\n",
       "      <td>1400000US24001000200</td>\n",
       "      <td>Census Tract 2; Allegany County; Maryland</td>\n",
       "      <td>66596</td>\n",
       "      <td>10.8</td>\n",
       "      <td>27.7</td>\n",
       "      <td>24</td>\n",
       "      <td>001</td>\n",
       "      <td>000200</td>\n",
       "    </tr>\n",
       "    <tr>\n",
       "      <th>3</th>\n",
       "      <td>1400000US24001000500</td>\n",
       "      <td>Census Tract 5; Allegany County; Maryland</td>\n",
       "      <td>47781</td>\n",
       "      <td>27.0</td>\n",
       "      <td>25.7</td>\n",
       "      <td>24</td>\n",
       "      <td>001</td>\n",
       "      <td>000500</td>\n",
       "    </tr>\n",
       "    <tr>\n",
       "      <th>4</th>\n",
       "      <td>1400000US24001000600</td>\n",
       "      <td>Census Tract 6; Allegany County; Maryland</td>\n",
       "      <td>48607</td>\n",
       "      <td>14.2</td>\n",
       "      <td>17.9</td>\n",
       "      <td>24</td>\n",
       "      <td>001</td>\n",
       "      <td>000600</td>\n",
       "    </tr>\n",
       "    <tr>\n",
       "      <th>5</th>\n",
       "      <td>1400000US24001000700</td>\n",
       "      <td>Census Tract 7; Allegany County; Maryland</td>\n",
       "      <td>36090</td>\n",
       "      <td>28.4</td>\n",
       "      <td>44.8</td>\n",
       "      <td>24</td>\n",
       "      <td>001</td>\n",
       "      <td>000700</td>\n",
       "    </tr>\n",
       "  </tbody>\n",
       "</table>\n",
       "</div>"
      ],
      "text/plain": [
       "0                GEO_ID                                       NAME  \\\n",
       "1  1400000US24001000100  Census Tract 1; Allegany County; Maryland   \n",
       "2  1400000US24001000200  Census Tract 2; Allegany County; Maryland   \n",
       "3  1400000US24001000500  Census Tract 5; Allegany County; Maryland   \n",
       "4  1400000US24001000600  Census Tract 6; Allegany County; Maryland   \n",
       "5  1400000US24001000700  Census Tract 7; Allegany County; Maryland   \n",
       "\n",
       "0 med_income_tract share_pop_poverty_tract share_under18_poverty_tract state  \\\n",
       "1            56232                    11.6                        17.7    24   \n",
       "2            66596                    10.8                        27.7    24   \n",
       "3            47781                    27.0                        25.7    24   \n",
       "4            48607                    14.2                        17.9    24   \n",
       "5            36090                    28.4                        44.8    24   \n",
       "\n",
       "0 county   tract  \n",
       "1    001  000100  \n",
       "2    001  000200  \n",
       "3    001  000500  \n",
       "4    001  000600  \n",
       "5    001  000700  "
      ]
     },
     "execution_count": 8,
     "metadata": {},
     "output_type": "execute_result"
    }
   ],
   "source": [
    "demo_tract_df.head()"
   ]
  },
  {
   "cell_type": "markdown",
   "id": "048bdc7e-285b-41a6-87a7-7be7b78f84ed",
   "metadata": {},
   "source": [
    "## Download Census geographies"
   ]
  },
  {
   "cell_type": "code",
   "execution_count": 7,
   "id": "9d6b0b0c-7f57-46da-baaa-6ff6de7e96f3",
   "metadata": {},
   "outputs": [
    {
     "name": "stdout",
     "output_type": "stream",
     "text": [
      "The new directory is created!\n"
     ]
    }
   ],
   "source": [
    "md_cd_2020 = gpd.read_file('https://www2.census.gov/geo/tiger/TIGER2022/CD/tl_2022_24_cd118.zip')\n",
    "\n",
    "#these older files only come on the us level so we'll need to filter once we download\n",
    "us_cd_2010 = gpd.read_file('https://www2.census.gov/geo/tiger/TIGER2019/CD/tl_2019_us_cd116.zip')\n",
    "md_cd_2010 = us_cd_2010.loc[us_cd_2010['STATEFP'] == '24']\n",
    "\n",
    "path = '../data/congressional-districts'\n",
    "isExist = os.path.exists(path)\n",
    "if not isExist:\n",
    "   os.makedirs(path)\n",
    "   print('The new directory is created!')\n",
    "\n",
    "md_cd_2020.to_file(path+'/tl_2022_24_cd118.shp')\n",
    "md_cd_2010.to_file(path+'/tl_2019_us_cd116.shp')"
   ]
  },
  {
   "cell_type": "code",
   "execution_count": null,
   "id": "9ee1c6a0-95b7-4ead-815c-c84a9b35e76a",
   "metadata": {},
   "outputs": [],
   "source": []
  }
 ],
 "metadata": {
  "kernelspec": {
   "display_name": "Python 3 (ipykernel)",
   "language": "python",
   "name": "python3"
  },
  "language_info": {
   "codemirror_mode": {
    "name": "ipython",
    "version": 3
   },
   "file_extension": ".py",
   "mimetype": "text/x-python",
   "name": "python",
   "nbconvert_exporter": "python",
   "pygments_lexer": "ipython3",
   "version": "3.9.6"
  }
 },
 "nbformat": 4,
 "nbformat_minor": 5
}
